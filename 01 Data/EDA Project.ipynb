{
 "cells": [
  {
   "cell_type": "code",
   "execution_count": 3,
   "id": "48ead523",
   "metadata": {
    "ExecuteTime": {
     "end_time": "2023-05-20T08:19:19.626443Z",
     "start_time": "2023-05-20T08:19:18.372157Z"
    }
   },
   "outputs": [],
   "source": [
    "import numpy as np\n",
    "import pandas as pd\n",
    "\n",
    "import matplotlib.pyplot as plt\n",
    "import seaborn as sns\n",
    "import geopandas as gpd"
   ]
  },
  {
   "cell_type": "code",
   "execution_count": 4,
   "id": "ecbe82c7",
   "metadata": {
    "ExecuteTime": {
     "end_time": "2023-05-20T08:19:20.386507Z",
     "start_time": "2023-05-20T08:19:19.860572Z"
    }
   },
   "outputs": [
    {
     "data": {
      "text/html": [
       "<div>\n",
       "<style scoped>\n",
       "    .dataframe tbody tr th:only-of-type {\n",
       "        vertical-align: middle;\n",
       "    }\n",
       "\n",
       "    .dataframe tbody tr th {\n",
       "        vertical-align: top;\n",
       "    }\n",
       "\n",
       "    .dataframe thead th {\n",
       "        text-align: right;\n",
       "    }\n",
       "</style>\n",
       "<table border=\"1\" class=\"dataframe\">\n",
       "  <thead>\n",
       "    <tr style=\"text-align: right;\">\n",
       "      <th></th>\n",
       "      <th>id</th>\n",
       "      <th>NAME</th>\n",
       "      <th>host id</th>\n",
       "      <th>host_identity_verified</th>\n",
       "      <th>host name</th>\n",
       "      <th>neighbourhood group</th>\n",
       "      <th>neighbourhood</th>\n",
       "      <th>lat</th>\n",
       "      <th>long</th>\n",
       "      <th>country</th>\n",
       "      <th>country code</th>\n",
       "      <th>instant_bookable</th>\n",
       "      <th>cancellation_policy</th>\n",
       "      <th>room type</th>\n",
       "      <th>Construction year</th>\n",
       "      <th>price</th>\n",
       "      <th>service fee</th>\n",
       "      <th>minimum nights</th>\n",
       "      <th>number of reviews</th>\n",
       "      <th>last review</th>\n",
       "      <th>reviews per month</th>\n",
       "      <th>review rate number</th>\n",
       "      <th>calculated host listings count</th>\n",
       "      <th>availability 365</th>\n",
       "      <th>house_rules</th>\n",
       "      <th>license</th>\n",
       "    </tr>\n",
       "  </thead>\n",
       "  <tbody>\n",
       "    <tr>\n",
       "      <th>0</th>\n",
       "      <td>1001254</td>\n",
       "      <td>Clean &amp; quiet apt home by the park</td>\n",
       "      <td>80014485718</td>\n",
       "      <td>unconfirmed</td>\n",
       "      <td>Madaline</td>\n",
       "      <td>Brooklyn</td>\n",
       "      <td>Kensington</td>\n",
       "      <td>40.64749</td>\n",
       "      <td>-73.97237</td>\n",
       "      <td>United States</td>\n",
       "      <td>US</td>\n",
       "      <td>False</td>\n",
       "      <td>strict</td>\n",
       "      <td>Private room</td>\n",
       "      <td>2020.0</td>\n",
       "      <td>$966</td>\n",
       "      <td>$193</td>\n",
       "      <td>10.0</td>\n",
       "      <td>9.0</td>\n",
       "      <td>10/19/2021</td>\n",
       "      <td>0.21</td>\n",
       "      <td>4.0</td>\n",
       "      <td>6.0</td>\n",
       "      <td>286.0</td>\n",
       "      <td>Clean up and treat the home the way you'd like...</td>\n",
       "      <td>NaN</td>\n",
       "    </tr>\n",
       "    <tr>\n",
       "      <th>1</th>\n",
       "      <td>1002102</td>\n",
       "      <td>Skylit Midtown Castle</td>\n",
       "      <td>52335172823</td>\n",
       "      <td>verified</td>\n",
       "      <td>Jenna</td>\n",
       "      <td>Manhattan</td>\n",
       "      <td>Midtown</td>\n",
       "      <td>40.75362</td>\n",
       "      <td>-73.98377</td>\n",
       "      <td>United States</td>\n",
       "      <td>US</td>\n",
       "      <td>False</td>\n",
       "      <td>moderate</td>\n",
       "      <td>Entire home/apt</td>\n",
       "      <td>2007.0</td>\n",
       "      <td>$142</td>\n",
       "      <td>$28</td>\n",
       "      <td>30.0</td>\n",
       "      <td>45.0</td>\n",
       "      <td>5/21/2022</td>\n",
       "      <td>0.38</td>\n",
       "      <td>4.0</td>\n",
       "      <td>2.0</td>\n",
       "      <td>228.0</td>\n",
       "      <td>Pet friendly but please confirm with me if the...</td>\n",
       "      <td>NaN</td>\n",
       "    </tr>\n",
       "    <tr>\n",
       "      <th>2</th>\n",
       "      <td>1002403</td>\n",
       "      <td>THE VILLAGE OF HARLEM....NEW YORK !</td>\n",
       "      <td>78829239556</td>\n",
       "      <td>NaN</td>\n",
       "      <td>Elise</td>\n",
       "      <td>Manhattan</td>\n",
       "      <td>Harlem</td>\n",
       "      <td>40.80902</td>\n",
       "      <td>-73.94190</td>\n",
       "      <td>United States</td>\n",
       "      <td>US</td>\n",
       "      <td>True</td>\n",
       "      <td>flexible</td>\n",
       "      <td>Private room</td>\n",
       "      <td>2005.0</td>\n",
       "      <td>$620</td>\n",
       "      <td>$124</td>\n",
       "      <td>3.0</td>\n",
       "      <td>0.0</td>\n",
       "      <td>NaN</td>\n",
       "      <td>NaN</td>\n",
       "      <td>5.0</td>\n",
       "      <td>1.0</td>\n",
       "      <td>352.0</td>\n",
       "      <td>I encourage you to use my kitchen, cooking and...</td>\n",
       "      <td>NaN</td>\n",
       "    </tr>\n",
       "    <tr>\n",
       "      <th>3</th>\n",
       "      <td>1002755</td>\n",
       "      <td>NaN</td>\n",
       "      <td>85098326012</td>\n",
       "      <td>unconfirmed</td>\n",
       "      <td>Garry</td>\n",
       "      <td>Brooklyn</td>\n",
       "      <td>Clinton Hill</td>\n",
       "      <td>40.68514</td>\n",
       "      <td>-73.95976</td>\n",
       "      <td>United States</td>\n",
       "      <td>US</td>\n",
       "      <td>True</td>\n",
       "      <td>moderate</td>\n",
       "      <td>Entire home/apt</td>\n",
       "      <td>2005.0</td>\n",
       "      <td>$368</td>\n",
       "      <td>$74</td>\n",
       "      <td>30.0</td>\n",
       "      <td>270.0</td>\n",
       "      <td>7/5/2019</td>\n",
       "      <td>4.64</td>\n",
       "      <td>4.0</td>\n",
       "      <td>1.0</td>\n",
       "      <td>322.0</td>\n",
       "      <td>NaN</td>\n",
       "      <td>NaN</td>\n",
       "    </tr>\n",
       "    <tr>\n",
       "      <th>4</th>\n",
       "      <td>1003689</td>\n",
       "      <td>Entire Apt: Spacious Studio/Loft by central park</td>\n",
       "      <td>92037596077</td>\n",
       "      <td>verified</td>\n",
       "      <td>Lyndon</td>\n",
       "      <td>Manhattan</td>\n",
       "      <td>East Harlem</td>\n",
       "      <td>40.79851</td>\n",
       "      <td>-73.94399</td>\n",
       "      <td>United States</td>\n",
       "      <td>US</td>\n",
       "      <td>False</td>\n",
       "      <td>moderate</td>\n",
       "      <td>Entire home/apt</td>\n",
       "      <td>2009.0</td>\n",
       "      <td>$204</td>\n",
       "      <td>$41</td>\n",
       "      <td>10.0</td>\n",
       "      <td>9.0</td>\n",
       "      <td>11/19/2018</td>\n",
       "      <td>0.10</td>\n",
       "      <td>3.0</td>\n",
       "      <td>1.0</td>\n",
       "      <td>289.0</td>\n",
       "      <td>Please no smoking in the house, porch or on th...</td>\n",
       "      <td>NaN</td>\n",
       "    </tr>\n",
       "  </tbody>\n",
       "</table>\n",
       "</div>"
      ],
      "text/plain": [
       "        id                                              NAME      host id  \\\n",
       "0  1001254                Clean & quiet apt home by the park  80014485718   \n",
       "1  1002102                             Skylit Midtown Castle  52335172823   \n",
       "2  1002403               THE VILLAGE OF HARLEM....NEW YORK !  78829239556   \n",
       "3  1002755                                               NaN  85098326012   \n",
       "4  1003689  Entire Apt: Spacious Studio/Loft by central park  92037596077   \n",
       "\n",
       "  host_identity_verified host name neighbourhood group neighbourhood  \\\n",
       "0            unconfirmed  Madaline            Brooklyn    Kensington   \n",
       "1               verified     Jenna           Manhattan       Midtown   \n",
       "2                    NaN     Elise           Manhattan        Harlem   \n",
       "3            unconfirmed     Garry            Brooklyn  Clinton Hill   \n",
       "4               verified    Lyndon           Manhattan   East Harlem   \n",
       "\n",
       "        lat      long        country country code instant_bookable  \\\n",
       "0  40.64749 -73.97237  United States           US            False   \n",
       "1  40.75362 -73.98377  United States           US            False   \n",
       "2  40.80902 -73.94190  United States           US             True   \n",
       "3  40.68514 -73.95976  United States           US             True   \n",
       "4  40.79851 -73.94399  United States           US            False   \n",
       "\n",
       "  cancellation_policy        room type  Construction year  price service fee  \\\n",
       "0              strict     Private room             2020.0  $966        $193    \n",
       "1            moderate  Entire home/apt             2007.0  $142         $28    \n",
       "2            flexible     Private room             2005.0  $620        $124    \n",
       "3            moderate  Entire home/apt             2005.0  $368         $74    \n",
       "4            moderate  Entire home/apt             2009.0  $204         $41    \n",
       "\n",
       "   minimum nights  number of reviews last review  reviews per month  \\\n",
       "0            10.0                9.0  10/19/2021               0.21   \n",
       "1            30.0               45.0   5/21/2022               0.38   \n",
       "2             3.0                0.0         NaN                NaN   \n",
       "3            30.0              270.0    7/5/2019               4.64   \n",
       "4            10.0                9.0  11/19/2018               0.10   \n",
       "\n",
       "   review rate number  calculated host listings count  availability 365  \\\n",
       "0                 4.0                             6.0             286.0   \n",
       "1                 4.0                             2.0             228.0   \n",
       "2                 5.0                             1.0             352.0   \n",
       "3                 4.0                             1.0             322.0   \n",
       "4                 3.0                             1.0             289.0   \n",
       "\n",
       "                                         house_rules license  \n",
       "0  Clean up and treat the home the way you'd like...     NaN  \n",
       "1  Pet friendly but please confirm with me if the...     NaN  \n",
       "2  I encourage you to use my kitchen, cooking and...     NaN  \n",
       "3                                                NaN     NaN  \n",
       "4  Please no smoking in the house, porch or on th...     NaN  "
      ]
     },
     "execution_count": 4,
     "metadata": {},
     "output_type": "execute_result"
    }
   ],
   "source": [
    "# Load the CSV file\n",
    "data = pd.read_csv('Airbnb_Open_Data.csv',low_memory=False)\n",
    "\n",
    "# Set the display option to show all columns\n",
    "pd.set_option('display.max_columns', None)\n",
    "\n",
    "# Display the loaded data\n",
    "data.head()"
   ]
  },
  {
   "cell_type": "code",
   "execution_count": 5,
   "id": "cc2b545f",
   "metadata": {
    "ExecuteTime": {
     "end_time": "2023-05-20T08:19:22.661638Z",
     "start_time": "2023-05-20T08:19:22.530607Z"
    }
   },
   "outputs": [
    {
     "name": "stdout",
     "output_type": "stream",
     "text": [
      "<class 'pandas.core.frame.DataFrame'>\n",
      "RangeIndex: 102599 entries, 0 to 102598\n",
      "Data columns (total 26 columns):\n",
      " #   Column                          Non-Null Count   Dtype  \n",
      "---  ------                          --------------   -----  \n",
      " 0   id                              102599 non-null  int64  \n",
      " 1   NAME                            102349 non-null  object \n",
      " 2   host id                         102599 non-null  int64  \n",
      " 3   host_identity_verified          102310 non-null  object \n",
      " 4   host name                       102193 non-null  object \n",
      " 5   neighbourhood group             102570 non-null  object \n",
      " 6   neighbourhood                   102583 non-null  object \n",
      " 7   lat                             102591 non-null  float64\n",
      " 8   long                            102591 non-null  float64\n",
      " 9   country                         102067 non-null  object \n",
      " 10  country code                    102468 non-null  object \n",
      " 11  instant_bookable                102494 non-null  object \n",
      " 12  cancellation_policy             102523 non-null  object \n",
      " 13  room type                       102599 non-null  object \n",
      " 14  Construction year               102385 non-null  float64\n",
      " 15  price                           102352 non-null  object \n",
      " 16  service fee                     102326 non-null  object \n",
      " 17  minimum nights                  102190 non-null  float64\n",
      " 18  number of reviews               102416 non-null  float64\n",
      " 19  last review                     86706 non-null   object \n",
      " 20  reviews per month               86720 non-null   float64\n",
      " 21  review rate number              102273 non-null  float64\n",
      " 22  calculated host listings count  102280 non-null  float64\n",
      " 23  availability 365                102151 non-null  float64\n",
      " 24  house_rules                     50468 non-null   object \n",
      " 25  license                         2 non-null       object \n",
      "dtypes: float64(9), int64(2), object(15)\n",
      "memory usage: 20.4+ MB\n"
     ]
    }
   ],
   "source": [
    "data.info()"
   ]
  },
  {
   "cell_type": "code",
   "execution_count": 6,
   "id": "d82bb4cd",
   "metadata": {
    "ExecuteTime": {
     "end_time": "2023-05-20T08:19:30.727286Z",
     "start_time": "2023-05-20T08:19:30.669869Z"
    }
   },
   "outputs": [
    {
     "data": {
      "text/html": [
       "<div>\n",
       "<style scoped>\n",
       "    .dataframe tbody tr th:only-of-type {\n",
       "        vertical-align: middle;\n",
       "    }\n",
       "\n",
       "    .dataframe tbody tr th {\n",
       "        vertical-align: top;\n",
       "    }\n",
       "\n",
       "    .dataframe thead th {\n",
       "        text-align: right;\n",
       "    }\n",
       "</style>\n",
       "<table border=\"1\" class=\"dataframe\">\n",
       "  <thead>\n",
       "    <tr style=\"text-align: right;\">\n",
       "      <th></th>\n",
       "      <th>id</th>\n",
       "      <th>host id</th>\n",
       "      <th>lat</th>\n",
       "      <th>long</th>\n",
       "      <th>Construction year</th>\n",
       "      <th>minimum nights</th>\n",
       "      <th>number of reviews</th>\n",
       "      <th>reviews per month</th>\n",
       "      <th>review rate number</th>\n",
       "      <th>calculated host listings count</th>\n",
       "      <th>availability 365</th>\n",
       "    </tr>\n",
       "  </thead>\n",
       "  <tbody>\n",
       "    <tr>\n",
       "      <th>count</th>\n",
       "      <td>1.025990e+05</td>\n",
       "      <td>1.025990e+05</td>\n",
       "      <td>102591.000000</td>\n",
       "      <td>102591.000000</td>\n",
       "      <td>102385.000000</td>\n",
       "      <td>102190.000000</td>\n",
       "      <td>102416.000000</td>\n",
       "      <td>86720.000000</td>\n",
       "      <td>102273.000000</td>\n",
       "      <td>102280.000000</td>\n",
       "      <td>102151.000000</td>\n",
       "    </tr>\n",
       "    <tr>\n",
       "      <th>mean</th>\n",
       "      <td>2.914623e+07</td>\n",
       "      <td>4.925411e+10</td>\n",
       "      <td>40.728094</td>\n",
       "      <td>-73.949644</td>\n",
       "      <td>2012.487464</td>\n",
       "      <td>8.135845</td>\n",
       "      <td>27.483743</td>\n",
       "      <td>1.374022</td>\n",
       "      <td>3.279106</td>\n",
       "      <td>7.936605</td>\n",
       "      <td>141.133254</td>\n",
       "    </tr>\n",
       "    <tr>\n",
       "      <th>std</th>\n",
       "      <td>1.625751e+07</td>\n",
       "      <td>2.853900e+10</td>\n",
       "      <td>0.055857</td>\n",
       "      <td>0.049521</td>\n",
       "      <td>5.765556</td>\n",
       "      <td>30.553781</td>\n",
       "      <td>49.508954</td>\n",
       "      <td>1.746621</td>\n",
       "      <td>1.284657</td>\n",
       "      <td>32.218780</td>\n",
       "      <td>135.435024</td>\n",
       "    </tr>\n",
       "    <tr>\n",
       "      <th>min</th>\n",
       "      <td>1.001254e+06</td>\n",
       "      <td>1.236005e+08</td>\n",
       "      <td>40.499790</td>\n",
       "      <td>-74.249840</td>\n",
       "      <td>2003.000000</td>\n",
       "      <td>-1223.000000</td>\n",
       "      <td>0.000000</td>\n",
       "      <td>0.010000</td>\n",
       "      <td>1.000000</td>\n",
       "      <td>1.000000</td>\n",
       "      <td>-10.000000</td>\n",
       "    </tr>\n",
       "    <tr>\n",
       "      <th>25%</th>\n",
       "      <td>1.508581e+07</td>\n",
       "      <td>2.458333e+10</td>\n",
       "      <td>40.688740</td>\n",
       "      <td>-73.982580</td>\n",
       "      <td>2007.000000</td>\n",
       "      <td>2.000000</td>\n",
       "      <td>1.000000</td>\n",
       "      <td>0.220000</td>\n",
       "      <td>2.000000</td>\n",
       "      <td>1.000000</td>\n",
       "      <td>3.000000</td>\n",
       "    </tr>\n",
       "    <tr>\n",
       "      <th>50%</th>\n",
       "      <td>2.913660e+07</td>\n",
       "      <td>4.911774e+10</td>\n",
       "      <td>40.722290</td>\n",
       "      <td>-73.954440</td>\n",
       "      <td>2012.000000</td>\n",
       "      <td>3.000000</td>\n",
       "      <td>7.000000</td>\n",
       "      <td>0.740000</td>\n",
       "      <td>3.000000</td>\n",
       "      <td>1.000000</td>\n",
       "      <td>96.000000</td>\n",
       "    </tr>\n",
       "    <tr>\n",
       "      <th>75%</th>\n",
       "      <td>4.320120e+07</td>\n",
       "      <td>7.399650e+10</td>\n",
       "      <td>40.762760</td>\n",
       "      <td>-73.932350</td>\n",
       "      <td>2017.000000</td>\n",
       "      <td>5.000000</td>\n",
       "      <td>30.000000</td>\n",
       "      <td>2.000000</td>\n",
       "      <td>4.000000</td>\n",
       "      <td>2.000000</td>\n",
       "      <td>269.000000</td>\n",
       "    </tr>\n",
       "    <tr>\n",
       "      <th>max</th>\n",
       "      <td>5.736742e+07</td>\n",
       "      <td>9.876313e+10</td>\n",
       "      <td>40.916970</td>\n",
       "      <td>-73.705220</td>\n",
       "      <td>2022.000000</td>\n",
       "      <td>5645.000000</td>\n",
       "      <td>1024.000000</td>\n",
       "      <td>90.000000</td>\n",
       "      <td>5.000000</td>\n",
       "      <td>332.000000</td>\n",
       "      <td>3677.000000</td>\n",
       "    </tr>\n",
       "  </tbody>\n",
       "</table>\n",
       "</div>"
      ],
      "text/plain": [
       "                 id       host id            lat           long  \\\n",
       "count  1.025990e+05  1.025990e+05  102591.000000  102591.000000   \n",
       "mean   2.914623e+07  4.925411e+10      40.728094     -73.949644   \n",
       "std    1.625751e+07  2.853900e+10       0.055857       0.049521   \n",
       "min    1.001254e+06  1.236005e+08      40.499790     -74.249840   \n",
       "25%    1.508581e+07  2.458333e+10      40.688740     -73.982580   \n",
       "50%    2.913660e+07  4.911774e+10      40.722290     -73.954440   \n",
       "75%    4.320120e+07  7.399650e+10      40.762760     -73.932350   \n",
       "max    5.736742e+07  9.876313e+10      40.916970     -73.705220   \n",
       "\n",
       "       Construction year  minimum nights  number of reviews  \\\n",
       "count      102385.000000   102190.000000      102416.000000   \n",
       "mean         2012.487464        8.135845          27.483743   \n",
       "std             5.765556       30.553781          49.508954   \n",
       "min          2003.000000    -1223.000000           0.000000   \n",
       "25%          2007.000000        2.000000           1.000000   \n",
       "50%          2012.000000        3.000000           7.000000   \n",
       "75%          2017.000000        5.000000          30.000000   \n",
       "max          2022.000000     5645.000000        1024.000000   \n",
       "\n",
       "       reviews per month  review rate number  calculated host listings count  \\\n",
       "count       86720.000000       102273.000000                   102280.000000   \n",
       "mean            1.374022            3.279106                        7.936605   \n",
       "std             1.746621            1.284657                       32.218780   \n",
       "min             0.010000            1.000000                        1.000000   \n",
       "25%             0.220000            2.000000                        1.000000   \n",
       "50%             0.740000            3.000000                        1.000000   \n",
       "75%             2.000000            4.000000                        2.000000   \n",
       "max            90.000000            5.000000                      332.000000   \n",
       "\n",
       "       availability 365  \n",
       "count     102151.000000  \n",
       "mean         141.133254  \n",
       "std          135.435024  \n",
       "min          -10.000000  \n",
       "25%            3.000000  \n",
       "50%           96.000000  \n",
       "75%          269.000000  \n",
       "max         3677.000000  "
      ]
     },
     "execution_count": 6,
     "metadata": {},
     "output_type": "execute_result"
    }
   ],
   "source": [
    "data.describe()"
   ]
  },
  {
   "cell_type": "code",
   "execution_count": 8,
   "id": "21fdc6dd",
   "metadata": {
    "ExecuteTime": {
     "end_time": "2023-05-20T08:40:15.229862Z",
     "start_time": "2023-05-20T08:40:15.206852Z"
    }
   },
   "outputs": [],
   "source": [
    "df = data.copy()"
   ]
  },
  {
   "cell_type": "code",
   "execution_count": 12,
   "id": "8ba64c8f",
   "metadata": {
    "ExecuteTime": {
     "end_time": "2023-05-20T08:41:59.992931Z",
     "start_time": "2023-05-20T08:41:59.963220Z"
    }
   },
   "outputs": [
    {
     "data": {
      "text/plain": [
       "array([80014485718, 52335172823, 78829239556, ..., 23801060917,\n",
       "       15593031571, 93578954226], dtype=int64)"
      ]
     },
     "execution_count": 12,
     "metadata": {},
     "output_type": "execute_result"
    }
   ],
   "source": [
    "df[\"host id\"].unique()"
   ]
  },
  {
   "cell_type": "code",
   "execution_count": 13,
   "id": "bee0a1e7",
   "metadata": {
    "ExecuteTime": {
     "end_time": "2023-05-20T08:45:02.602411Z",
     "start_time": "2023-05-20T08:45:02.560433Z"
    }
   },
   "outputs": [],
   "source": [
    "df.dropna(subset=[\"price\"], inplace=True)"
   ]
  },
  {
   "cell_type": "code",
   "execution_count": 14,
   "id": "b59ab0bd",
   "metadata": {
    "ExecuteTime": {
     "end_time": "2023-05-20T08:45:10.507103Z",
     "start_time": "2023-05-20T08:45:10.385160Z"
    }
   },
   "outputs": [
    {
     "name": "stdout",
     "output_type": "stream",
     "text": [
      "<class 'pandas.core.frame.DataFrame'>\n",
      "Int64Index: 102352 entries, 0 to 102598\n",
      "Data columns (total 26 columns):\n",
      " #   Column                          Non-Null Count   Dtype  \n",
      "---  ------                          --------------   -----  \n",
      " 0   id                              102352 non-null  int64  \n",
      " 1   NAME                            102105 non-null  object \n",
      " 2   host id                         102352 non-null  int64  \n",
      " 3   host_identity_verified          102067 non-null  object \n",
      " 4   host name                       101951 non-null  object \n",
      " 5   neighbourhood group             102324 non-null  object \n",
      " 6   neighbourhood                   102337 non-null  object \n",
      " 7   lat                             102344 non-null  float64\n",
      " 8   long                            102344 non-null  float64\n",
      " 9   country                         101825 non-null  object \n",
      " 10  country code                    102226 non-null  object \n",
      " 11  instant_bookable                102252 non-null  object \n",
      " 12  cancellation_policy             102281 non-null  object \n",
      " 13  room type                       102352 non-null  object \n",
      " 14  Construction year               102142 non-null  float64\n",
      " 15  price                           102352 non-null  object \n",
      " 16  service fee                     102113 non-null  object \n",
      " 17  minimum nights                  101943 non-null  float64\n",
      " 18  number of reviews               102169 non-null  float64\n",
      " 19  last review                     86485 non-null   object \n",
      " 20  reviews per month               86500 non-null   float64\n",
      " 21  review rate number              102026 non-null  float64\n",
      " 22  calculated host listings count  102033 non-null  float64\n",
      " 23  availability 365                101904 non-null  float64\n",
      " 24  house_rules                     50356 non-null   object \n",
      " 25  license                         2 non-null       object \n",
      "dtypes: float64(9), int64(2), object(15)\n",
      "memory usage: 21.1+ MB\n"
     ]
    }
   ],
   "source": [
    "df.info()"
   ]
  },
  {
   "cell_type": "code",
   "execution_count": 15,
   "id": "a1b28952",
   "metadata": {
    "ExecuteTime": {
     "end_time": "2023-05-20T08:47:35.350760Z",
     "start_time": "2023-05-20T08:47:35.316234Z"
    }
   },
   "outputs": [],
   "source": [
    "df.drop(\"country code\", axis=1, inplace=True)"
   ]
  },
  {
   "cell_type": "code",
   "execution_count": 20,
   "id": "85dc0ac3",
   "metadata": {
    "ExecuteTime": {
     "end_time": "2023-05-20T08:50:06.992645Z",
     "start_time": "2023-05-20T08:50:06.879620Z"
    }
   },
   "outputs": [
    {
     "name": "stdout",
     "output_type": "stream",
     "text": [
      "<class 'pandas.core.frame.DataFrame'>\n",
      "Int64Index: 102067 entries, 0 to 102598\n",
      "Data columns (total 24 columns):\n",
      " #   Column                          Non-Null Count   Dtype  \n",
      "---  ------                          --------------   -----  \n",
      " 0   id                              102067 non-null  int64  \n",
      " 1   NAME                            101832 non-null  object \n",
      " 2   host id                         102067 non-null  int64  \n",
      " 3   host_identity_verified          102067 non-null  object \n",
      " 4   host name                       101667 non-null  object \n",
      " 5   neighbourhood group             102047 non-null  object \n",
      " 6   neighbourhood                   102052 non-null  object \n",
      " 7   lat                             102059 non-null  float64\n",
      " 8   long                            102059 non-null  float64\n",
      " 9   country                         101543 non-null  object \n",
      " 10  instant_bookable                101975 non-null  object \n",
      " 11  cancellation_policy             101999 non-null  object \n",
      " 12  room type                       102067 non-null  object \n",
      " 13  Construction year               101874 non-null  float64\n",
      " 14  price                           102067 non-null  object \n",
      " 15  service fee                     101829 non-null  object \n",
      " 16  minimum nights                  101668 non-null  float64\n",
      " 17  number of reviews               101884 non-null  float64\n",
      " 18  last review                     86242 non-null   object \n",
      " 19  reviews per month               86258 non-null   float64\n",
      " 20  review rate number              101755 non-null  float64\n",
      " 21  calculated host listings count  101757 non-null  float64\n",
      " 22  availability 365                101627 non-null  float64\n",
      " 23  house_rules                     50189 non-null   object \n",
      "dtypes: float64(9), int64(2), object(13)\n",
      "memory usage: 19.5+ MB\n"
     ]
    }
   ],
   "source": [
    "df.info()"
   ]
  },
  {
   "cell_type": "code",
   "execution_count": 17,
   "id": "78af0bc2",
   "metadata": {
    "ExecuteTime": {
     "end_time": "2023-05-20T08:48:19.769094Z",
     "start_time": "2023-05-20T08:48:19.738177Z"
    }
   },
   "outputs": [],
   "source": [
    "df.drop(\"license\", axis=1, inplace=True)\n"
   ]
  },
  {
   "cell_type": "code",
   "execution_count": 19,
   "id": "9b69917f",
   "metadata": {
    "ExecuteTime": {
     "end_time": "2023-05-20T08:49:51.422706Z",
     "start_time": "2023-05-20T08:49:51.386698Z"
    }
   },
   "outputs": [],
   "source": [
    "df.dropna(subset=[\"host_identity_verified\"], inplace=True)"
   ]
  },
  {
   "cell_type": "code",
   "execution_count": 21,
   "id": "d57d6fed",
   "metadata": {
    "ExecuteTime": {
     "end_time": "2023-05-20T08:51:17.887883Z",
     "start_time": "2023-05-20T08:51:17.874002Z"
    }
   },
   "outputs": [
    {
     "data": {
      "text/plain": [
       "array([False, True, nan], dtype=object)"
      ]
     },
     "execution_count": 21,
     "metadata": {},
     "output_type": "execute_result"
    }
   ],
   "source": [
    "df[\"instant_bookable\"].unique()"
   ]
  },
  {
   "cell_type": "code",
   "execution_count": 23,
   "id": "0981a90c",
   "metadata": {
    "ExecuteTime": {
     "end_time": "2023-05-20T08:53:08.114770Z",
     "start_time": "2023-05-20T08:53:08.093763Z"
    }
   },
   "outputs": [
    {
     "data": {
      "text/plain": [
       "Manhattan        43567\n",
       "Brooklyn         41628\n",
       "Queens           13207\n",
       "Bronx             2696\n",
       "Staten Island      947\n",
       "brookln              1\n",
       "manhatan             1\n",
       "Name: neighbourhood group, dtype: int64"
      ]
     },
     "execution_count": 23,
     "metadata": {},
     "output_type": "execute_result"
    }
   ],
   "source": [
    "df[\"neighbourhood group\"].value_counts()"
   ]
  },
  {
   "cell_type": "code",
   "execution_count": 25,
   "id": "3b78811d",
   "metadata": {
    "ExecuteTime": {
     "end_time": "2023-05-20T08:58:48.843862Z",
     "start_time": "2023-05-20T08:58:48.807855Z"
    }
   },
   "outputs": [],
   "source": [
    "# Define the replacement mappings\n",
    "replace_dict = {\n",
    "    'brookln': 'Brooklyn',\n",
    "    'manhatan': 'Manhattan'\n",
    "}\n",
    "\n",
    "# Replace values in the column\n",
    "df['neighbourhood group'] = df[\"neighbourhood group\"].replace(replace_dict)"
   ]
  },
  {
   "cell_type": "code",
   "execution_count": 26,
   "id": "0ca96669",
   "metadata": {
    "ExecuteTime": {
     "end_time": "2023-05-20T08:58:59.283946Z",
     "start_time": "2023-05-20T08:58:59.275940Z"
    }
   },
   "outputs": [
    {
     "data": {
      "text/plain": [
       "Manhattan        43568\n",
       "Brooklyn         41629\n",
       "Queens           13207\n",
       "Bronx             2696\n",
       "Staten Island      947\n",
       "Name: neighbourhood group, dtype: int64"
      ]
     },
     "execution_count": 26,
     "metadata": {},
     "output_type": "execute_result"
    }
   ],
   "source": [
    "df[\"neighbourhood group\"].value_counts()"
   ]
  },
  {
   "cell_type": "code",
   "execution_count": 43,
   "id": "dd29a1db",
   "metadata": {
    "ExecuteTime": {
     "end_time": "2023-05-20T09:12:06.888576Z",
     "start_time": "2023-05-20T09:12:06.797012Z"
    }
   },
   "outputs": [
    {
     "name": "stdout",
     "output_type": "stream",
     "text": [
      "<class 'pandas.core.frame.DataFrame'>\n",
      "Int64Index: 102067 entries, 0 to 102598\n",
      "Data columns (total 23 columns):\n",
      " #   Column                          Non-Null Count   Dtype  \n",
      "---  ------                          --------------   -----  \n",
      " 0   id                              102067 non-null  int64  \n",
      " 1   NAME                            101832 non-null  object \n",
      " 2   host_identity_verified          102067 non-null  object \n",
      " 3   host name                       101667 non-null  object \n",
      " 4   neighbourhood group             102047 non-null  object \n",
      " 5   neighbourhood                   102052 non-null  object \n",
      " 6   lat                             102059 non-null  float64\n",
      " 7   long                            102059 non-null  float64\n",
      " 8   country                         101543 non-null  object \n",
      " 9   instant_bookable                101975 non-null  object \n",
      " 10  cancellation_policy             101999 non-null  object \n",
      " 11  room type                       102067 non-null  object \n",
      " 12  Construction year               101874 non-null  float64\n",
      " 13  price                           102067 non-null  float64\n",
      " 14  service fee                     101829 non-null  float64\n",
      " 15  minimum nights                  101668 non-null  float64\n",
      " 16  number of reviews               101884 non-null  float64\n",
      " 17  last review                     86242 non-null   object \n",
      " 18  reviews per month               86258 non-null   float64\n",
      " 19  review rate number              101755 non-null  float64\n",
      " 20  calculated host listings count  101757 non-null  float64\n",
      " 21  availability 365                101627 non-null  float64\n",
      " 22  house_rules                     50189 non-null   object \n",
      "dtypes: float64(11), int64(1), object(11)\n",
      "memory usage: 18.7+ MB\n"
     ]
    }
   ],
   "source": [
    "df.info()"
   ]
  },
  {
   "cell_type": "code",
   "execution_count": 28,
   "id": "2bf01402",
   "metadata": {
    "ExecuteTime": {
     "end_time": "2023-05-20T09:02:39.226319Z",
     "start_time": "2023-05-20T09:02:39.198311Z"
    }
   },
   "outputs": [],
   "source": [
    "df.drop(columns = [\"host id\"], inplace = True)"
   ]
  },
  {
   "cell_type": "code",
   "execution_count": null,
   "id": "66962504",
   "metadata": {},
   "outputs": [],
   "source": []
  },
  {
   "cell_type": "code",
   "execution_count": 40,
   "id": "990d13fc",
   "metadata": {
    "ExecuteTime": {
     "end_time": "2023-05-20T09:11:51.682810Z",
     "start_time": "2023-05-20T09:11:51.341713Z"
    }
   },
   "outputs": [],
   "source": [
    "#Clean Price & service fee\n",
    "df['price'].replace(to_replace='^\\$',value='', regex=True, inplace=True)\n",
    "df['price'].replace(to_replace=',',value='', regex=True, inplace=True)\n",
    "df['service fee'].replace(to_replace='^\\$',value='', regex=True, inplace=True)\n",
    "df['service fee'].replace(to_replace=',',value='', regex=True, inplace=True)"
   ]
  },
  {
   "cell_type": "code",
   "execution_count": 41,
   "id": "2a73efcb",
   "metadata": {
    "ExecuteTime": {
     "end_time": "2023-05-20T09:11:53.290652Z",
     "start_time": "2023-05-20T09:11:53.270647Z"
    }
   },
   "outputs": [
    {
     "data": {
      "text/html": [
       "<div>\n",
       "<style scoped>\n",
       "    .dataframe tbody tr th:only-of-type {\n",
       "        vertical-align: middle;\n",
       "    }\n",
       "\n",
       "    .dataframe tbody tr th {\n",
       "        vertical-align: top;\n",
       "    }\n",
       "\n",
       "    .dataframe thead th {\n",
       "        text-align: right;\n",
       "    }\n",
       "</style>\n",
       "<table border=\"1\" class=\"dataframe\">\n",
       "  <thead>\n",
       "    <tr style=\"text-align: right;\">\n",
       "      <th></th>\n",
       "      <th>id</th>\n",
       "      <th>NAME</th>\n",
       "      <th>host_identity_verified</th>\n",
       "      <th>host name</th>\n",
       "      <th>neighbourhood group</th>\n",
       "      <th>neighbourhood</th>\n",
       "      <th>lat</th>\n",
       "      <th>long</th>\n",
       "      <th>country</th>\n",
       "      <th>instant_bookable</th>\n",
       "      <th>cancellation_policy</th>\n",
       "      <th>room type</th>\n",
       "      <th>Construction year</th>\n",
       "      <th>price</th>\n",
       "      <th>service fee</th>\n",
       "      <th>minimum nights</th>\n",
       "      <th>number of reviews</th>\n",
       "      <th>last review</th>\n",
       "      <th>reviews per month</th>\n",
       "      <th>review rate number</th>\n",
       "      <th>calculated host listings count</th>\n",
       "      <th>availability 365</th>\n",
       "      <th>house_rules</th>\n",
       "    </tr>\n",
       "  </thead>\n",
       "  <tbody>\n",
       "    <tr>\n",
       "      <th>0</th>\n",
       "      <td>1001254</td>\n",
       "      <td>Clean &amp; quiet apt home by the park</td>\n",
       "      <td>unconfirmed</td>\n",
       "      <td>Madaline</td>\n",
       "      <td>Brooklyn</td>\n",
       "      <td>Kensington</td>\n",
       "      <td>40.64749</td>\n",
       "      <td>-73.97237</td>\n",
       "      <td>United States</td>\n",
       "      <td>False</td>\n",
       "      <td>strict</td>\n",
       "      <td>Private room</td>\n",
       "      <td>2020.0</td>\n",
       "      <td>966</td>\n",
       "      <td>193</td>\n",
       "      <td>10.0</td>\n",
       "      <td>9.0</td>\n",
       "      <td>10/19/2021</td>\n",
       "      <td>0.21</td>\n",
       "      <td>4.0</td>\n",
       "      <td>6.0</td>\n",
       "      <td>286.0</td>\n",
       "      <td>Clean up and treat the home the way you'd like...</td>\n",
       "    </tr>\n",
       "    <tr>\n",
       "      <th>1</th>\n",
       "      <td>1002102</td>\n",
       "      <td>Skylit Midtown Castle</td>\n",
       "      <td>verified</td>\n",
       "      <td>Jenna</td>\n",
       "      <td>Manhattan</td>\n",
       "      <td>Midtown</td>\n",
       "      <td>40.75362</td>\n",
       "      <td>-73.98377</td>\n",
       "      <td>United States</td>\n",
       "      <td>False</td>\n",
       "      <td>moderate</td>\n",
       "      <td>Entire home/apt</td>\n",
       "      <td>2007.0</td>\n",
       "      <td>142</td>\n",
       "      <td>28</td>\n",
       "      <td>30.0</td>\n",
       "      <td>45.0</td>\n",
       "      <td>5/21/2022</td>\n",
       "      <td>0.38</td>\n",
       "      <td>4.0</td>\n",
       "      <td>2.0</td>\n",
       "      <td>228.0</td>\n",
       "      <td>Pet friendly but please confirm with me if the...</td>\n",
       "    </tr>\n",
       "    <tr>\n",
       "      <th>3</th>\n",
       "      <td>1002755</td>\n",
       "      <td>NaN</td>\n",
       "      <td>unconfirmed</td>\n",
       "      <td>Garry</td>\n",
       "      <td>Brooklyn</td>\n",
       "      <td>Clinton Hill</td>\n",
       "      <td>40.68514</td>\n",
       "      <td>-73.95976</td>\n",
       "      <td>United States</td>\n",
       "      <td>True</td>\n",
       "      <td>moderate</td>\n",
       "      <td>Entire home/apt</td>\n",
       "      <td>2005.0</td>\n",
       "      <td>368</td>\n",
       "      <td>74</td>\n",
       "      <td>30.0</td>\n",
       "      <td>270.0</td>\n",
       "      <td>7/5/2019</td>\n",
       "      <td>4.64</td>\n",
       "      <td>4.0</td>\n",
       "      <td>1.0</td>\n",
       "      <td>322.0</td>\n",
       "      <td>NaN</td>\n",
       "    </tr>\n",
       "    <tr>\n",
       "      <th>4</th>\n",
       "      <td>1003689</td>\n",
       "      <td>Entire Apt: Spacious Studio/Loft by central park</td>\n",
       "      <td>verified</td>\n",
       "      <td>Lyndon</td>\n",
       "      <td>Manhattan</td>\n",
       "      <td>East Harlem</td>\n",
       "      <td>40.79851</td>\n",
       "      <td>-73.94399</td>\n",
       "      <td>United States</td>\n",
       "      <td>False</td>\n",
       "      <td>moderate</td>\n",
       "      <td>Entire home/apt</td>\n",
       "      <td>2009.0</td>\n",
       "      <td>204</td>\n",
       "      <td>41</td>\n",
       "      <td>10.0</td>\n",
       "      <td>9.0</td>\n",
       "      <td>11/19/2018</td>\n",
       "      <td>0.10</td>\n",
       "      <td>3.0</td>\n",
       "      <td>1.0</td>\n",
       "      <td>289.0</td>\n",
       "      <td>Please no smoking in the house, porch or on th...</td>\n",
       "    </tr>\n",
       "    <tr>\n",
       "      <th>5</th>\n",
       "      <td>1004098</td>\n",
       "      <td>Large Cozy 1 BR Apartment In Midtown East</td>\n",
       "      <td>verified</td>\n",
       "      <td>Michelle</td>\n",
       "      <td>Manhattan</td>\n",
       "      <td>Murray Hill</td>\n",
       "      <td>40.74767</td>\n",
       "      <td>-73.97500</td>\n",
       "      <td>United States</td>\n",
       "      <td>True</td>\n",
       "      <td>flexible</td>\n",
       "      <td>Entire home/apt</td>\n",
       "      <td>2013.0</td>\n",
       "      <td>577</td>\n",
       "      <td>115</td>\n",
       "      <td>3.0</td>\n",
       "      <td>74.0</td>\n",
       "      <td>6/22/2019</td>\n",
       "      <td>0.59</td>\n",
       "      <td>3.0</td>\n",
       "      <td>1.0</td>\n",
       "      <td>374.0</td>\n",
       "      <td>No smoking, please, and no drugs.</td>\n",
       "    </tr>\n",
       "  </tbody>\n",
       "</table>\n",
       "</div>"
      ],
      "text/plain": [
       "        id                                              NAME  \\\n",
       "0  1001254                Clean & quiet apt home by the park   \n",
       "1  1002102                             Skylit Midtown Castle   \n",
       "3  1002755                                               NaN   \n",
       "4  1003689  Entire Apt: Spacious Studio/Loft by central park   \n",
       "5  1004098         Large Cozy 1 BR Apartment In Midtown East   \n",
       "\n",
       "  host_identity_verified host name neighbourhood group neighbourhood  \\\n",
       "0            unconfirmed  Madaline            Brooklyn    Kensington   \n",
       "1               verified     Jenna           Manhattan       Midtown   \n",
       "3            unconfirmed     Garry            Brooklyn  Clinton Hill   \n",
       "4               verified    Lyndon           Manhattan   East Harlem   \n",
       "5               verified  Michelle           Manhattan   Murray Hill   \n",
       "\n",
       "        lat      long        country instant_bookable cancellation_policy  \\\n",
       "0  40.64749 -73.97237  United States            False              strict   \n",
       "1  40.75362 -73.98377  United States            False            moderate   \n",
       "3  40.68514 -73.95976  United States             True            moderate   \n",
       "4  40.79851 -73.94399  United States            False            moderate   \n",
       "5  40.74767 -73.97500  United States             True            flexible   \n",
       "\n",
       "         room type  Construction year price service fee  minimum nights  \\\n",
       "0     Private room             2020.0  966         193             10.0   \n",
       "1  Entire home/apt             2007.0  142          28             30.0   \n",
       "3  Entire home/apt             2005.0  368          74             30.0   \n",
       "4  Entire home/apt             2009.0  204          41             10.0   \n",
       "5  Entire home/apt             2013.0  577         115              3.0   \n",
       "\n",
       "   number of reviews last review  reviews per month  review rate number  \\\n",
       "0                9.0  10/19/2021               0.21                 4.0   \n",
       "1               45.0   5/21/2022               0.38                 4.0   \n",
       "3              270.0    7/5/2019               4.64                 4.0   \n",
       "4                9.0  11/19/2018               0.10                 3.0   \n",
       "5               74.0   6/22/2019               0.59                 3.0   \n",
       "\n",
       "   calculated host listings count  availability 365  \\\n",
       "0                             6.0             286.0   \n",
       "1                             2.0             228.0   \n",
       "3                             1.0             322.0   \n",
       "4                             1.0             289.0   \n",
       "5                             1.0             374.0   \n",
       "\n",
       "                                         house_rules  \n",
       "0  Clean up and treat the home the way you'd like...  \n",
       "1  Pet friendly but please confirm with me if the...  \n",
       "3                                                NaN  \n",
       "4  Please no smoking in the house, porch or on th...  \n",
       "5                  No smoking, please, and no drugs.  "
      ]
     },
     "execution_count": 41,
     "metadata": {},
     "output_type": "execute_result"
    }
   ],
   "source": [
    "df.head()"
   ]
  },
  {
   "cell_type": "code",
   "execution_count": 42,
   "id": "157ba772",
   "metadata": {
    "ExecuteTime": {
     "end_time": "2023-05-20T09:12:00.310872Z",
     "start_time": "2023-05-20T09:12:00.252758Z"
    }
   },
   "outputs": [],
   "source": [
    "df['price'] = df['price'].astype('float64')\n",
    "df['service fee'] = df['service fee'].astype('float64')"
   ]
  },
  {
   "cell_type": "code",
   "execution_count": null,
   "id": "21496e32",
   "metadata": {},
   "outputs": [],
   "source": []
  },
  {
   "cell_type": "markdown",
   "id": "c7472e38",
   "metadata": {
    "ExecuteTime": {
     "end_time": "2023-05-20T09:12:24.752331Z",
     "start_time": "2023-05-20T09:12:24.737673Z"
    }
   },
   "source": [
    "#### Clean last review"
   ]
  },
  {
   "cell_type": "code",
   "execution_count": 45,
   "id": "2b0c73a7",
   "metadata": {
    "ExecuteTime": {
     "end_time": "2023-05-20T09:12:41.429739Z",
     "start_time": "2023-05-20T09:12:41.309712Z"
    }
   },
   "outputs": [],
   "source": [
    "df['last review'] = pd.to_datetime(df['last review'])"
   ]
  },
  {
   "cell_type": "markdown",
   "id": "eb81d720",
   "metadata": {
    "ExecuteTime": {
     "end_time": "2023-05-20T09:13:02.697329Z",
     "start_time": "2023-05-20T09:13:02.690328Z"
    }
   },
   "source": [
    "#### Drop House Rules"
   ]
  },
  {
   "cell_type": "code",
   "execution_count": 51,
   "id": "c7e803cf",
   "metadata": {
    "ExecuteTime": {
     "end_time": "2023-05-20T09:14:57.424751Z",
     "start_time": "2023-05-20T09:14:57.349695Z"
    }
   },
   "outputs": [
    {
     "name": "stdout",
     "output_type": "stream",
     "text": [
      "<class 'pandas.core.frame.DataFrame'>\n",
      "Int64Index: 102067 entries, 0 to 102598\n",
      "Data columns (total 22 columns):\n",
      " #   Column                          Non-Null Count   Dtype         \n",
      "---  ------                          --------------   -----         \n",
      " 0   id                              102067 non-null  int64         \n",
      " 1   NAME                            101832 non-null  object        \n",
      " 2   host_identity_verified          102067 non-null  object        \n",
      " 3   host name                       101667 non-null  object        \n",
      " 4   neighbourhood group             102047 non-null  object        \n",
      " 5   neighbourhood                   102052 non-null  object        \n",
      " 6   lat                             102059 non-null  float64       \n",
      " 7   long                            102059 non-null  float64       \n",
      " 8   country                         101543 non-null  object        \n",
      " 9   instant_bookable                101975 non-null  object        \n",
      " 10  cancellation_policy             101999 non-null  object        \n",
      " 11  room type                       102067 non-null  object        \n",
      " 12  Construction year               101874 non-null  float64       \n",
      " 13  price                           102067 non-null  float64       \n",
      " 14  service fee                     101829 non-null  float64       \n",
      " 15  minimum nights                  101668 non-null  float64       \n",
      " 16  number of reviews               101884 non-null  float64       \n",
      " 17  last review                     86242 non-null   datetime64[ns]\n",
      " 18  reviews per month               86258 non-null   float64       \n",
      " 19  review rate number              101755 non-null  float64       \n",
      " 20  calculated host listings count  101757 non-null  float64       \n",
      " 21  availability 365                101627 non-null  float64       \n",
      "dtypes: datetime64[ns](1), float64(11), int64(1), object(9)\n",
      "memory usage: 17.9+ MB\n"
     ]
    }
   ],
   "source": [
    "df.info()"
   ]
  }
 ],
 "metadata": {
  "kernelspec": {
   "display_name": "Python 3 (ipykernel)",
   "language": "python",
   "name": "python3"
  },
  "language_info": {
   "codemirror_mode": {
    "name": "ipython",
    "version": 3
   },
   "file_extension": ".py",
   "mimetype": "text/x-python",
   "name": "python",
   "nbconvert_exporter": "python",
   "pygments_lexer": "ipython3",
   "version": "3.8.10"
  },
  "varInspector": {
   "cols": {
    "lenName": 16,
    "lenType": 16,
    "lenVar": 40
   },
   "kernels_config": {
    "python": {
     "delete_cmd_postfix": "",
     "delete_cmd_prefix": "del ",
     "library": "var_list.py",
     "varRefreshCmd": "print(var_dic_list())"
    },
    "r": {
     "delete_cmd_postfix": ") ",
     "delete_cmd_prefix": "rm(",
     "library": "var_list.r",
     "varRefreshCmd": "cat(var_dic_list()) "
    }
   },
   "types_to_exclude": [
    "module",
    "function",
    "builtin_function_or_method",
    "instance",
    "_Feature"
   ],
   "window_display": false
  }
 },
 "nbformat": 4,
 "nbformat_minor": 5
}
