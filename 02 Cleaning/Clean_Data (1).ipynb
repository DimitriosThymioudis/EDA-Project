{
 "cells": [
  {
   "cell_type": "markdown",
   "id": "282ddc19-4dab-45fc-94ae-80adb73bb151",
   "metadata": {},
   "source": [
    "## EDA Project - AirBnB"
   ]
  },
  {
   "cell_type": "markdown",
   "id": "b7b628ee-c46a-4909-b06b-95d2ade3fb00",
   "metadata": {},
   "source": [
    "#### Usefull Imports"
   ]
  },
  {
   "cell_type": "code",
   "execution_count": 101,
   "id": "0d9ea717-4203-48a7-b87e-49ba274deb43",
   "metadata": {
    "execution": {
     "iopub.execute_input": "2023-05-20T14:40:41.995479Z",
     "iopub.status.busy": "2023-05-20T14:40:41.994479Z",
     "iopub.status.idle": "2023-05-20T14:40:42.003004Z",
     "shell.execute_reply": "2023-05-20T14:40:42.003004Z",
     "shell.execute_reply.started": "2023-05-20T14:40:41.995479Z"
    },
    "tags": []
   },
   "outputs": [],
   "source": [
    "import pandas as pd\n",
    "import numpy as np\n",
    "import matplotlib.pyplot as plt\n",
    "import seaborn as sns\n",
    "from datetime import datetime, timedelta\n",
    "from pathlib import Path"
   ]
  },
  {
   "cell_type": "markdown",
   "id": "9585ab07-4219-4226-8376-e0e5f347f51d",
   "metadata": {},
   "source": [
    "#### Read Data"
   ]
  },
  {
   "cell_type": "code",
   "execution_count": 102,
   "id": "a433d5e6-d543-45ba-8b77-3c523eead14e",
   "metadata": {
    "execution": {
     "iopub.execute_input": "2023-05-20T14:40:42.960409Z",
     "iopub.status.busy": "2023-05-20T14:40:42.960409Z",
     "iopub.status.idle": "2023-05-20T14:40:43.590252Z",
     "shell.execute_reply": "2023-05-20T14:40:43.590252Z",
     "shell.execute_reply.started": "2023-05-20T14:40:42.960409Z"
    },
    "tags": []
   },
   "outputs": [
    {
     "name": "stderr",
     "output_type": "stream",
     "text": [
      "C:\\Users\\chris\\AppData\\Local\\Temp\\ipykernel_21116\\3986664154.py:3: DtypeWarning: Columns (25) have mixed types. Specify dtype option on import or set low_memory=False.\n",
      "  df_original = pd.read_csv(file_path)\n"
     ]
    }
   ],
   "source": [
    "path = Path(\"Airbnb_Open_Data.csv\")\n",
    "file_path = str(path.parent.absolute().parent.absolute()) + '\\\\01.Data\\\\Airbnb_Open_Data.csv'\n",
    "df_original = pd.read_csv(file_path)"
   ]
  },
  {
   "cell_type": "code",
   "execution_count": 103,
   "id": "32a1bb5a-9045-4723-8b75-a3fab06ee3a9",
   "metadata": {
    "execution": {
     "iopub.execute_input": "2023-05-20T14:40:44.665124Z",
     "iopub.status.busy": "2023-05-20T14:40:44.664123Z",
     "iopub.status.idle": "2023-05-20T14:40:44.864990Z",
     "shell.execute_reply": "2023-05-20T14:40:44.864990Z",
     "shell.execute_reply.started": "2023-05-20T14:40:44.665124Z"
    },
    "tags": []
   },
   "outputs": [
    {
     "name": "stdout",
     "output_type": "stream",
     "text": [
      "<class 'pandas.core.frame.DataFrame'>\n",
      "RangeIndex: 102599 entries, 0 to 102598\n",
      "Data columns (total 26 columns):\n",
      " #   Column                          Non-Null Count   Dtype  \n",
      "---  ------                          --------------   -----  \n",
      " 0   id                              102599 non-null  int64  \n",
      " 1   NAME                            102349 non-null  object \n",
      " 2   host id                         102599 non-null  int64  \n",
      " 3   host_identity_verified          102310 non-null  object \n",
      " 4   host name                       102193 non-null  object \n",
      " 5   neighbourhood group             102570 non-null  object \n",
      " 6   neighbourhood                   102583 non-null  object \n",
      " 7   lat                             102591 non-null  float64\n",
      " 8   long                            102591 non-null  float64\n",
      " 9   country                         102067 non-null  object \n",
      " 10  country code                    102468 non-null  object \n",
      " 11  instant_bookable                102494 non-null  object \n",
      " 12  cancellation_policy             102523 non-null  object \n",
      " 13  room type                       102599 non-null  object \n",
      " 14  Construction year               102385 non-null  float64\n",
      " 15  price                           102352 non-null  object \n",
      " 16  service fee                     102326 non-null  object \n",
      " 17  minimum nights                  102190 non-null  float64\n",
      " 18  number of reviews               102416 non-null  float64\n",
      " 19  last review                     86706 non-null   object \n",
      " 20  reviews per month               86720 non-null   float64\n",
      " 21  review rate number              102273 non-null  float64\n",
      " 22  calculated host listings count  102280 non-null  float64\n",
      " 23  availability 365                102151 non-null  float64\n",
      " 24  house_rules                     50468 non-null   object \n",
      " 25  license                         2 non-null       object \n",
      "dtypes: float64(9), int64(2), object(15)\n",
      "memory usage: 20.4+ MB\n"
     ]
    }
   ],
   "source": [
    "df_original.info()"
   ]
  },
  {
   "cell_type": "code",
   "execution_count": 104,
   "id": "7ab5a736-4cb5-4e05-9baf-59cc4e5996a2",
   "metadata": {
    "execution": {
     "iopub.execute_input": "2023-05-20T14:40:53.728824Z",
     "iopub.status.busy": "2023-05-20T14:40:53.727824Z",
     "iopub.status.idle": "2023-05-20T14:40:53.755062Z",
     "shell.execute_reply": "2023-05-20T14:40:53.754061Z",
     "shell.execute_reply.started": "2023-05-20T14:40:53.728824Z"
    },
    "tags": []
   },
   "outputs": [],
   "source": [
    "# copy to a new DataFrame\n",
    "df = df_original.copy()"
   ]
  },
  {
   "cell_type": "markdown",
   "id": "1ec4ad1d-8879-4a8b-becc-e818b0e80fb7",
   "metadata": {
    "execution": {
     "iopub.execute_input": "2023-05-20T09:04:28.551775Z",
     "iopub.status.busy": "2023-05-20T09:04:28.550774Z",
     "iopub.status.idle": "2023-05-20T09:04:28.556867Z",
     "shell.execute_reply": "2023-05-20T09:04:28.555866Z",
     "shell.execute_reply.started": "2023-05-20T09:04:28.551775Z"
    },
    "tags": []
   },
   "source": [
    "#### Drop Country"
   ]
  },
  {
   "cell_type": "code",
   "execution_count": 105,
   "id": "69eeafac-1c8d-4786-b10b-6b45974d055f",
   "metadata": {
    "execution": {
     "iopub.execute_input": "2023-05-20T14:40:55.105609Z",
     "iopub.status.busy": "2023-05-20T14:40:55.105609Z",
     "iopub.status.idle": "2023-05-20T14:40:55.155293Z",
     "shell.execute_reply": "2023-05-20T14:40:55.154288Z",
     "shell.execute_reply.started": "2023-05-20T14:40:55.105609Z"
    },
    "tags": []
   },
   "outputs": [],
   "source": [
    "df.drop('country', axis=1, inplace=True)\n",
    "df.drop('country code', axis=1, inplace=True)"
   ]
  },
  {
   "cell_type": "markdown",
   "id": "61cc87d4-9e5d-448f-8cc9-701f6d647447",
   "metadata": {},
   "source": [
    "#### DropNA host_identity_verified"
   ]
  },
  {
   "cell_type": "code",
   "execution_count": 106,
   "id": "bc81f427-fbf7-4e51-b9a6-06a87df7cf9a",
   "metadata": {
    "execution": {
     "iopub.execute_input": "2023-05-20T14:40:57.961782Z",
     "iopub.status.busy": "2023-05-20T14:40:57.960781Z",
     "iopub.status.idle": "2023-05-20T14:40:58.010355Z",
     "shell.execute_reply": "2023-05-20T14:40:58.010355Z",
     "shell.execute_reply.started": "2023-05-20T14:40:57.961782Z"
    },
    "tags": []
   },
   "outputs": [],
   "source": [
    "df.dropna(subset=['host_identity_verified'], inplace=True)"
   ]
  },
  {
   "cell_type": "markdown",
   "id": "19036a31-5db3-41bf-b507-2c5724698a5b",
   "metadata": {},
   "source": [
    "#### Clean neighbourhood group"
   ]
  },
  {
   "cell_type": "code",
   "execution_count": 107,
   "id": "2a261527-abb6-4e54-b6ba-da7dea4ecf1e",
   "metadata": {
    "execution": {
     "iopub.execute_input": "2023-05-20T14:40:58.959117Z",
     "iopub.status.busy": "2023-05-20T14:40:58.959117Z",
     "iopub.status.idle": "2023-05-20T14:40:58.995026Z",
     "shell.execute_reply": "2023-05-20T14:40:58.994025Z",
     "shell.execute_reply.started": "2023-05-20T14:40:58.959117Z"
    },
    "tags": []
   },
   "outputs": [],
   "source": [
    "replace_dict = {\n",
    "    'brookln': 'Brooklyn',\n",
    "    'manhatan': 'Manhattan'\n",
    "}\n",
    "\n",
    "#Replace values in the column\n",
    "df['neighbourhood group'] = df['neighbourhood group'].replace(replace_dict)"
   ]
  },
  {
   "cell_type": "markdown",
   "id": "423db6fd-da0f-4275-a9f0-48bc6154fda9",
   "metadata": {},
   "source": [
    "#### Drop Host ID"
   ]
  },
  {
   "cell_type": "code",
   "execution_count": 108,
   "id": "8b3e312c-9817-4a00-89cb-fecdb2bf78cf",
   "metadata": {
    "execution": {
     "iopub.execute_input": "2023-05-20T14:41:00.623562Z",
     "iopub.status.busy": "2023-05-20T14:41:00.623562Z",
     "iopub.status.idle": "2023-05-20T14:41:00.660294Z",
     "shell.execute_reply": "2023-05-20T14:41:00.659292Z",
     "shell.execute_reply.started": "2023-05-20T14:41:00.623562Z"
    },
    "tags": []
   },
   "outputs": [],
   "source": [
    "df.drop(columns = ['host id'], inplace = True)"
   ]
  },
  {
   "cell_type": "markdown",
   "id": "0119ae94-a9d3-4d99-bdcf-d26f3d03dbed",
   "metadata": {},
   "source": [
    "#### Clean Price & service fee "
   ]
  },
  {
   "cell_type": "code",
   "execution_count": 109,
   "id": "665dbac0-cad7-4e24-9a13-0956d64caf5f",
   "metadata": {
    "execution": {
     "iopub.execute_input": "2023-05-20T14:41:01.850232Z",
     "iopub.status.busy": "2023-05-20T14:41:01.850232Z",
     "iopub.status.idle": "2023-05-20T14:41:02.625687Z",
     "shell.execute_reply": "2023-05-20T14:41:02.625687Z",
     "shell.execute_reply.started": "2023-05-20T14:41:01.850232Z"
    },
    "tags": []
   },
   "outputs": [],
   "source": [
    "df['price'].replace(to_replace='^\\$',value='', regex=True, inplace=True)\n",
    "df['price'].replace(to_replace=',',value='', regex=True, inplace=True)\n",
    "df['service fee'].replace(to_replace='^\\$',value='', regex=True, inplace=True)\n",
    "df['service fee'].replace(to_replace=',',value='', regex=True, inplace=True)"
   ]
  },
  {
   "cell_type": "code",
   "execution_count": 110,
   "id": "6e8a4072-8418-4464-8c89-867771a7d532",
   "metadata": {
    "execution": {
     "iopub.execute_input": "2023-05-20T14:41:03.928762Z",
     "iopub.status.busy": "2023-05-20T14:41:03.928762Z",
     "iopub.status.idle": "2023-05-20T14:41:04.004419Z",
     "shell.execute_reply": "2023-05-20T14:41:04.003418Z",
     "shell.execute_reply.started": "2023-05-20T14:41:03.928762Z"
    },
    "tags": []
   },
   "outputs": [],
   "source": [
    "df['price'] = df['price'].astype('float64')\n",
    "df['service fee'] = df['service fee'].astype('float64')"
   ]
  },
  {
   "cell_type": "code",
   "execution_count": 111,
   "id": "24093b92-6995-4f41-ba63-407404f532e3",
   "metadata": {
    "execution": {
     "iopub.execute_input": "2023-05-20T14:41:07.986722Z",
     "iopub.status.busy": "2023-05-20T14:41:07.986722Z",
     "iopub.status.idle": "2023-05-20T14:41:08.039128Z",
     "shell.execute_reply": "2023-05-20T14:41:08.039128Z",
     "shell.execute_reply.started": "2023-05-20T14:41:07.986722Z"
    },
    "tags": []
   },
   "outputs": [],
   "source": [
    "df.dropna(subset=[\"price\"], inplace=True)"
   ]
  },
  {
   "cell_type": "markdown",
   "id": "5eca0abc-2010-43f0-8c9f-144c10cc5bcf",
   "metadata": {
    "tags": []
   },
   "source": [
    "#### Clean last review"
   ]
  },
  {
   "cell_type": "code",
   "execution_count": 112,
   "id": "bfd8595b-1da6-4395-84ce-e00dfb7197d8",
   "metadata": {
    "execution": {
     "iopub.execute_input": "2023-05-20T14:41:09.963124Z",
     "iopub.status.busy": "2023-05-20T14:41:09.963124Z",
     "iopub.status.idle": "2023-05-20T14:41:10.008458Z",
     "shell.execute_reply": "2023-05-20T14:41:10.008458Z",
     "shell.execute_reply.started": "2023-05-20T14:41:09.963124Z"
    },
    "tags": []
   },
   "outputs": [],
   "source": [
    "# convert this column to date time object\n",
    "df['last review'] = pd.to_datetime(df['last review'])"
   ]
  },
  {
   "cell_type": "markdown",
   "id": "08261b1d-a8f4-4719-a939-2e3e727171c7",
   "metadata": {},
   "source": [
    "#### Drop House Rules"
   ]
  },
  {
   "cell_type": "code",
   "execution_count": 113,
   "id": "98425f97-f9cc-4090-a847-265ed7612db2",
   "metadata": {
    "execution": {
     "iopub.execute_input": "2023-05-20T14:41:10.909983Z",
     "iopub.status.busy": "2023-05-20T14:41:10.909983Z",
     "iopub.status.idle": "2023-05-20T14:41:10.944657Z",
     "shell.execute_reply": "2023-05-20T14:41:10.943659Z",
     "shell.execute_reply.started": "2023-05-20T14:41:10.909983Z"
    },
    "tags": []
   },
   "outputs": [],
   "source": [
    "# Because of high NaN values, I am droping this column\n",
    "df.drop(columns = ['house_rules'], axis = 1, inplace = True)"
   ]
  },
  {
   "cell_type": "markdown",
   "id": "3e9674e4-d5e2-4b37-a889-6f8257b7706b",
   "metadata": {},
   "source": [
    "#### Drop License"
   ]
  },
  {
   "cell_type": "code",
   "execution_count": 114,
   "id": "09cca77c-36af-411b-9b45-5e6b1a4b678d",
   "metadata": {
    "execution": {
     "iopub.execute_input": "2023-05-20T14:41:12.178673Z",
     "iopub.status.busy": "2023-05-20T14:41:12.178673Z",
     "iopub.status.idle": "2023-05-20T14:41:12.210038Z",
     "shell.execute_reply": "2023-05-20T14:41:12.209036Z",
     "shell.execute_reply.started": "2023-05-20T14:41:12.178673Z"
    },
    "tags": []
   },
   "outputs": [],
   "source": [
    "# Because of high NaN values, I am droping this column\n",
    "df.drop(columns = ['license'], axis = 1, inplace = True)"
   ]
  },
  {
   "cell_type": "markdown",
   "id": "d89cfa85-a031-4695-9ba1-54bfaecb2135",
   "metadata": {},
   "source": [
    "#### Check Dataset after Cleaning"
   ]
  },
  {
   "cell_type": "code",
   "execution_count": 115,
   "id": "0b36bbf0-4f65-4edd-a2f6-107709069375",
   "metadata": {
    "execution": {
     "iopub.execute_input": "2023-05-20T14:41:13.292956Z",
     "iopub.status.busy": "2023-05-20T14:41:13.291921Z",
     "iopub.status.idle": "2023-05-20T14:41:13.410663Z",
     "shell.execute_reply": "2023-05-20T14:41:13.409661Z",
     "shell.execute_reply.started": "2023-05-20T14:41:13.292956Z"
    },
    "tags": []
   },
   "outputs": [
    {
     "name": "stdout",
     "output_type": "stream",
     "text": [
      "<class 'pandas.core.frame.DataFrame'>\n",
      "Int64Index: 102067 entries, 0 to 102598\n",
      "Data columns (total 21 columns):\n",
      " #   Column                          Non-Null Count   Dtype         \n",
      "---  ------                          --------------   -----         \n",
      " 0   id                              102067 non-null  int64         \n",
      " 1   NAME                            101832 non-null  object        \n",
      " 2   host_identity_verified          102067 non-null  object        \n",
      " 3   host name                       101667 non-null  object        \n",
      " 4   neighbourhood group             102047 non-null  object        \n",
      " 5   neighbourhood                   102052 non-null  object        \n",
      " 6   lat                             102059 non-null  float64       \n",
      " 7   long                            102059 non-null  float64       \n",
      " 8   instant_bookable                101975 non-null  object        \n",
      " 9   cancellation_policy             101999 non-null  object        \n",
      " 10  room type                       102067 non-null  object        \n",
      " 11  Construction year               101874 non-null  float64       \n",
      " 12  price                           102067 non-null  float64       \n",
      " 13  service fee                     101829 non-null  float64       \n",
      " 14  minimum nights                  101668 non-null  float64       \n",
      " 15  number of reviews               101884 non-null  float64       \n",
      " 16  last review                     86242 non-null   datetime64[ns]\n",
      " 17  reviews per month               86258 non-null   float64       \n",
      " 18  review rate number              101755 non-null  float64       \n",
      " 19  calculated host listings count  101757 non-null  float64       \n",
      " 20  availability 365                101627 non-null  float64       \n",
      "dtypes: datetime64[ns](1), float64(11), int64(1), object(8)\n",
      "memory usage: 17.1+ MB\n"
     ]
    }
   ],
   "source": [
    "df.info()"
   ]
  },
  {
   "cell_type": "code",
   "execution_count": 116,
   "id": "1b72ced5-aed4-4f99-9e5b-91cdf81c2b1f",
   "metadata": {
    "execution": {
     "iopub.execute_input": "2023-05-20T14:41:16.563184Z",
     "iopub.status.busy": "2023-05-20T14:41:16.561937Z",
     "iopub.status.idle": "2023-05-20T14:41:16.650530Z",
     "shell.execute_reply": "2023-05-20T14:41:16.650530Z",
     "shell.execute_reply.started": "2023-05-20T14:41:16.563184Z"
    },
    "tags": []
   },
   "outputs": [
    {
     "data": {
      "text/html": [
       "<div>\n",
       "<style scoped>\n",
       "    .dataframe tbody tr th:only-of-type {\n",
       "        vertical-align: middle;\n",
       "    }\n",
       "\n",
       "    .dataframe tbody tr th {\n",
       "        vertical-align: top;\n",
       "    }\n",
       "\n",
       "    .dataframe thead th {\n",
       "        text-align: right;\n",
       "    }\n",
       "</style>\n",
       "<table border=\"1\" class=\"dataframe\">\n",
       "  <thead>\n",
       "    <tr style=\"text-align: right;\">\n",
       "      <th></th>\n",
       "      <th>id</th>\n",
       "      <th>lat</th>\n",
       "      <th>long</th>\n",
       "      <th>Construction year</th>\n",
       "      <th>price</th>\n",
       "      <th>service fee</th>\n",
       "      <th>minimum nights</th>\n",
       "      <th>number of reviews</th>\n",
       "      <th>reviews per month</th>\n",
       "      <th>review rate number</th>\n",
       "      <th>calculated host listings count</th>\n",
       "      <th>availability 365</th>\n",
       "    </tr>\n",
       "  </thead>\n",
       "  <tbody>\n",
       "    <tr>\n",
       "      <th>count</th>\n",
       "      <td>1.020670e+05</td>\n",
       "      <td>102059.000000</td>\n",
       "      <td>102059.000000</td>\n",
       "      <td>101874.000000</td>\n",
       "      <td>102067.000000</td>\n",
       "      <td>101829.000000</td>\n",
       "      <td>101668.000000</td>\n",
       "      <td>101884.000000</td>\n",
       "      <td>86258.000000</td>\n",
       "      <td>101755.000000</td>\n",
       "      <td>101757.000000</td>\n",
       "      <td>101627.000000</td>\n",
       "    </tr>\n",
       "    <tr>\n",
       "      <th>mean</th>\n",
       "      <td>2.917394e+07</td>\n",
       "      <td>40.728090</td>\n",
       "      <td>-73.949632</td>\n",
       "      <td>2012.489104</td>\n",
       "      <td>625.250032</td>\n",
       "      <td>125.030522</td>\n",
       "      <td>8.114412</td>\n",
       "      <td>27.438636</td>\n",
       "      <td>1.374862</td>\n",
       "      <td>3.279387</td>\n",
       "      <td>7.931779</td>\n",
       "      <td>141.130949</td>\n",
       "    </tr>\n",
       "    <tr>\n",
       "      <th>std</th>\n",
       "      <td>1.624713e+07</td>\n",
       "      <td>0.055859</td>\n",
       "      <td>0.049532</td>\n",
       "      <td>5.764709</td>\n",
       "      <td>331.689511</td>\n",
       "      <td>66.337414</td>\n",
       "      <td>30.513726</td>\n",
       "      <td>49.439793</td>\n",
       "      <td>1.748458</td>\n",
       "      <td>1.284340</td>\n",
       "      <td>32.217935</td>\n",
       "      <td>135.443628</td>\n",
       "    </tr>\n",
       "    <tr>\n",
       "      <th>min</th>\n",
       "      <td>1.001254e+06</td>\n",
       "      <td>40.499790</td>\n",
       "      <td>-74.249840</td>\n",
       "      <td>2003.000000</td>\n",
       "      <td>50.000000</td>\n",
       "      <td>10.000000</td>\n",
       "      <td>-1223.000000</td>\n",
       "      <td>0.000000</td>\n",
       "      <td>0.010000</td>\n",
       "      <td>1.000000</td>\n",
       "      <td>1.000000</td>\n",
       "      <td>-10.000000</td>\n",
       "    </tr>\n",
       "    <tr>\n",
       "      <th>25%</th>\n",
       "      <td>1.512779e+07</td>\n",
       "      <td>40.688750</td>\n",
       "      <td>-73.982570</td>\n",
       "      <td>2007.000000</td>\n",
       "      <td>339.500000</td>\n",
       "      <td>68.000000</td>\n",
       "      <td>2.000000</td>\n",
       "      <td>1.000000</td>\n",
       "      <td>0.220000</td>\n",
       "      <td>2.000000</td>\n",
       "      <td>1.000000</td>\n",
       "      <td>3.000000</td>\n",
       "    </tr>\n",
       "    <tr>\n",
       "      <th>50%</th>\n",
       "      <td>2.916477e+07</td>\n",
       "      <td>40.722290</td>\n",
       "      <td>-73.954430</td>\n",
       "      <td>2012.000000</td>\n",
       "      <td>624.000000</td>\n",
       "      <td>125.000000</td>\n",
       "      <td>3.000000</td>\n",
       "      <td>7.000000</td>\n",
       "      <td>0.740000</td>\n",
       "      <td>3.000000</td>\n",
       "      <td>1.000000</td>\n",
       "      <td>96.000000</td>\n",
       "    </tr>\n",
       "    <tr>\n",
       "      <th>75%</th>\n",
       "      <td>4.322053e+07</td>\n",
       "      <td>40.762760</td>\n",
       "      <td>-73.932340</td>\n",
       "      <td>2017.750000</td>\n",
       "      <td>913.000000</td>\n",
       "      <td>183.000000</td>\n",
       "      <td>5.000000</td>\n",
       "      <td>30.000000</td>\n",
       "      <td>2.000000</td>\n",
       "      <td>4.000000</td>\n",
       "      <td>2.000000</td>\n",
       "      <td>269.000000</td>\n",
       "    </tr>\n",
       "    <tr>\n",
       "      <th>max</th>\n",
       "      <td>5.736742e+07</td>\n",
       "      <td>40.916970</td>\n",
       "      <td>-73.705220</td>\n",
       "      <td>2022.000000</td>\n",
       "      <td>1200.000000</td>\n",
       "      <td>240.000000</td>\n",
       "      <td>5645.000000</td>\n",
       "      <td>1024.000000</td>\n",
       "      <td>90.000000</td>\n",
       "      <td>5.000000</td>\n",
       "      <td>332.000000</td>\n",
       "      <td>3677.000000</td>\n",
       "    </tr>\n",
       "  </tbody>\n",
       "</table>\n",
       "</div>"
      ],
      "text/plain": [
       "                 id            lat           long  Construction year  \\\n",
       "count  1.020670e+05  102059.000000  102059.000000      101874.000000   \n",
       "mean   2.917394e+07      40.728090     -73.949632        2012.489104   \n",
       "std    1.624713e+07       0.055859       0.049532           5.764709   \n",
       "min    1.001254e+06      40.499790     -74.249840        2003.000000   \n",
       "25%    1.512779e+07      40.688750     -73.982570        2007.000000   \n",
       "50%    2.916477e+07      40.722290     -73.954430        2012.000000   \n",
       "75%    4.322053e+07      40.762760     -73.932340        2017.750000   \n",
       "max    5.736742e+07      40.916970     -73.705220        2022.000000   \n",
       "\n",
       "               price    service fee  minimum nights  number of reviews  \\\n",
       "count  102067.000000  101829.000000   101668.000000      101884.000000   \n",
       "mean      625.250032     125.030522        8.114412          27.438636   \n",
       "std       331.689511      66.337414       30.513726          49.439793   \n",
       "min        50.000000      10.000000    -1223.000000           0.000000   \n",
       "25%       339.500000      68.000000        2.000000           1.000000   \n",
       "50%       624.000000     125.000000        3.000000           7.000000   \n",
       "75%       913.000000     183.000000        5.000000          30.000000   \n",
       "max      1200.000000     240.000000     5645.000000        1024.000000   \n",
       "\n",
       "       reviews per month  review rate number  calculated host listings count  \\\n",
       "count       86258.000000       101755.000000                   101757.000000   \n",
       "mean            1.374862            3.279387                        7.931779   \n",
       "std             1.748458            1.284340                       32.217935   \n",
       "min             0.010000            1.000000                        1.000000   \n",
       "25%             0.220000            2.000000                        1.000000   \n",
       "50%             0.740000            3.000000                        1.000000   \n",
       "75%             2.000000            4.000000                        2.000000   \n",
       "max            90.000000            5.000000                      332.000000   \n",
       "\n",
       "       availability 365  \n",
       "count     101627.000000  \n",
       "mean         141.130949  \n",
       "std          135.443628  \n",
       "min          -10.000000  \n",
       "25%            3.000000  \n",
       "50%           96.000000  \n",
       "75%          269.000000  \n",
       "max         3677.000000  "
      ]
     },
     "execution_count": 116,
     "metadata": {},
     "output_type": "execute_result"
    }
   ],
   "source": [
    "df.describe()"
   ]
  },
  {
   "cell_type": "code",
   "execution_count": 118,
   "id": "d58c0cb9-d45f-41b0-a81c-9033ff591f0c",
   "metadata": {
    "execution": {
     "iopub.execute_input": "2023-05-20T14:43:29.990780Z",
     "iopub.status.busy": "2023-05-20T14:43:29.989779Z",
     "iopub.status.idle": "2023-05-20T14:43:31.452318Z",
     "shell.execute_reply": "2023-05-20T14:43:31.452318Z",
     "shell.execute_reply.started": "2023-05-20T14:43:29.990780Z"
    },
    "tags": []
   },
   "outputs": [],
   "source": [
    "# converting to CSV file\n",
    "file_path = str(path.parent.absolute().parent.absolute()) + '\\\\01.Data\\\\Cleaned_Data.csv'\n",
    "df.to_csv(file_path)"
   ]
  }
 ],
 "metadata": {
  "kernelspec": {
   "display_name": "Python 3 (ipykernel)",
   "language": "python",
   "name": "python3"
  },
  "language_info": {
   "codemirror_mode": {
    "name": "ipython",
    "version": 3
   },
   "file_extension": ".py",
   "mimetype": "text/x-python",
   "name": "python",
   "nbconvert_exporter": "python",
   "pygments_lexer": "ipython3",
   "version": "3.8.16"
  }
 },
 "nbformat": 4,
 "nbformat_minor": 5
}
